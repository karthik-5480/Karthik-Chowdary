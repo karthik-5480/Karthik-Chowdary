{
 "cells": [
  {
   "cell_type": "code",
   "execution_count": 1,
   "id": "61bde57f",
   "metadata": {},
   "outputs": [
    {
     "name": "stdout",
     "output_type": "stream",
     "text": [
      "Collecting qrcode[pil]\n",
      "  Using cached qrcode-7.3.1.tar.gz (43 kB)\n",
      "Requirement already satisfied: colorama in c:\\users\\cheekati karthik\\anaconda3\\lib\\site-packages (from qrcode[pil]) (0.4.4)\n",
      "Requirement already satisfied: pillow in c:\\users\\cheekati karthik\\anaconda3\\lib\\site-packages (from qrcode[pil]) (8.4.0)\n",
      "Building wheels for collected packages: qrcode\n",
      "  Building wheel for qrcode (setup.py): started\n",
      "  Building wheel for qrcode (setup.py): finished with status 'done'\n",
      "  Created wheel for qrcode: filename=qrcode-7.3.1-py3-none-any.whl size=40401 sha256=8d79514c0bf8e150ae7296e346b619b34965bcd4d4c7443c75db201f8e8ae7e0\n",
      "  Stored in directory: c:\\users\\cheekati karthik\\appdata\\local\\pip\\cache\\wheels\\93\\54\\16\\55cec87f8d902ed84b94ab8fdb7e89ae1158c06e130bc83b03\n",
      "Successfully built qrcode\n",
      "Installing collected packages: qrcode\n",
      "Successfully installed qrcode-7.3.1\n"
     ]
    }
   ],
   "source": [
    "! pip install qrcode[pil]\n"
   ]
  },
  {
   "cell_type": "code",
   "execution_count": 2,
   "id": "cd06d525",
   "metadata": {},
   "outputs": [
    {
     "name": "stdout",
     "output_type": "stream",
     "text": [
      "Collecting opencv-python\n",
      "  Downloading opencv_python-4.5.4.60-cp39-cp39-win_amd64.whl (35.1 MB)\n",
      "Requirement already satisfied: numpy>=1.19.3 in c:\\users\\cheekati karthik\\anaconda3\\lib\\site-packages (from opencv-python) (1.20.3)\n",
      "Installing collected packages: opencv-python\n",
      "Successfully installed opencv-python-4.5.4.60\n"
     ]
    }
   ],
   "source": [
    "! pip install opencv-python"
   ]
  },
  {
   "cell_type": "code",
   "execution_count": 2,
   "id": "751709cc",
   "metadata": {
    "scrolled": true
   },
   "outputs": [
    {
     "name": "stdout",
     "output_type": "stream",
     "text": [
      "Collecting opencv-contrib-python\n",
      "  Downloading opencv_contrib_python-4.5.4.60-cp39-cp39-win_amd64.whl (42.0 MB)\n",
      "Requirement already satisfied: numpy>=1.19.3 in c:\\users\\cheekati karthik\\anaconda3\\lib\\site-packages (from opencv-contrib-python) (1.20.3)\n",
      "Installing collected packages: opencv-contrib-python\n",
      "Successfully installed opencv-contrib-python-4.5.4.60\n"
     ]
    }
   ],
   "source": [
    "! pip install opencv-contrib-python"
   ]
  },
  {
   "cell_type": "code",
   "execution_count": 1,
   "id": "11e070cc",
   "metadata": {},
   "outputs": [
    {
     "name": "stdout",
     "output_type": "stream",
     "text": [
      "www.facebook.com\n"
     ]
    },
    {
     "data": {
      "text/plain": [
       "-1"
      ]
     },
     "execution_count": 1,
     "metadata": {},
     "output_type": "execute_result"
    }
   ],
   "source": [
    "import qrcode\n",
    "import cv2\n",
    "link=input()\n",
    "img=qrcode.make(link)\n",
    "img.save(\"qrcode.jpg\")\n",
    "img=cv2.imread(\"qrcode.jpg\")\n",
    "cv2.imshow(\"image\",img)\n",
    "cv2.waitKey()\n"
   ]
  },
  {
   "cell_type": "code",
   "execution_count": null,
   "id": "3a694c78",
   "metadata": {},
   "outputs": [],
   "source": []
  }
 ],
 "metadata": {
  "kernelspec": {
   "display_name": "Python 3 (ipykernel)",
   "language": "python",
   "name": "python3"
  },
  "language_info": {
   "codemirror_mode": {
    "name": "ipython",
    "version": 3
   },
   "file_extension": ".py",
   "mimetype": "text/x-python",
   "name": "python",
   "nbconvert_exporter": "python",
   "pygments_lexer": "ipython3",
   "version": "3.9.7"
  }
 },
 "nbformat": 4,
 "nbformat_minor": 5
}
